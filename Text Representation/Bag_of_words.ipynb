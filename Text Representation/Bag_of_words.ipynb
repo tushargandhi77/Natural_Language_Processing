{
 "cells": [
  {
   "metadata": {},
   "cell_type": "markdown",
   "source": [
    "# Bag of words\n",
    "### Text Classification (most used)\n"
   ],
   "id": "1deb25aed8f4ac7c"
  },
  {
   "cell_type": "code",
   "id": "initial_id",
   "metadata": {
    "collapsed": true,
    "ExecuteTime": {
     "end_time": "2024-04-05T10:03:56.845235Z",
     "start_time": "2024-04-05T10:03:56.841264Z"
    }
   },
   "source": [
    "text = \"Hey i am tushar i am going to home\"\n",
    "vocalobary = sorted(set(text.split()))\n",
    "bg_word = []\n",
    "vector = [0]*len(vocalobary)\n",
    "for word in text.split():\n",
    "    vector[vocalobary.index(word)] += 1\n",
    "bg_word.append(vector)\n",
    "print(bg_word)"
   ],
   "outputs": [
    {
     "name": "stdout",
     "output_type": "stream",
     "text": [
      "[[1, 2, 1, 1, 2, 1, 1]]\n"
     ]
    }
   ],
   "execution_count": 7
  },
  {
   "metadata": {
    "ExecuteTime": {
     "end_time": "2024-04-05T10:04:25.365316Z",
     "start_time": "2024-04-05T10:04:21.889502Z"
    }
   },
   "cell_type": "code",
   "source": [
    "import numpy as np\n",
    "import pandas as pd"
   ],
   "id": "72f7a42527b29bf1",
   "outputs": [],
   "execution_count": 8
  },
  {
   "metadata": {
    "ExecuteTime": {
     "end_time": "2024-04-05T10:06:16.144361Z",
     "start_time": "2024-04-05T10:06:15.879019Z"
    }
   },
   "cell_type": "code",
   "source": "df = pd.DataFrame({'text':['people watch campusx','campusx watch campusx','people write comment','campusx write comment'],'output':[1,1,0,0]})",
   "id": "453b063c09f1c8e9",
   "outputs": [],
   "execution_count": 10
  },
  {
   "metadata": {
    "ExecuteTime": {
     "end_time": "2024-04-05T10:06:18.508442Z",
     "start_time": "2024-04-05T10:06:18.499526Z"
    }
   },
   "cell_type": "code",
   "source": "df",
   "id": "1cd1c6e4ce1579d4",
   "outputs": [
    {
     "data": {
      "text/plain": [
       "                    text  output\n",
       "0   people watch campusx       1\n",
       "1  campusx watch campusx       1\n",
       "2   people write comment       0\n",
       "3  campusx write comment       0"
      ],
      "text/html": [
       "<div>\n",
       "<style scoped>\n",
       "    .dataframe tbody tr th:only-of-type {\n",
       "        vertical-align: middle;\n",
       "    }\n",
       "\n",
       "    .dataframe tbody tr th {\n",
       "        vertical-align: top;\n",
       "    }\n",
       "\n",
       "    .dataframe thead th {\n",
       "        text-align: right;\n",
       "    }\n",
       "</style>\n",
       "<table border=\"1\" class=\"dataframe\">\n",
       "  <thead>\n",
       "    <tr style=\"text-align: right;\">\n",
       "      <th></th>\n",
       "      <th>text</th>\n",
       "      <th>output</th>\n",
       "    </tr>\n",
       "  </thead>\n",
       "  <tbody>\n",
       "    <tr>\n",
       "      <th>0</th>\n",
       "      <td>people watch campusx</td>\n",
       "      <td>1</td>\n",
       "    </tr>\n",
       "    <tr>\n",
       "      <th>1</th>\n",
       "      <td>campusx watch campusx</td>\n",
       "      <td>1</td>\n",
       "    </tr>\n",
       "    <tr>\n",
       "      <th>2</th>\n",
       "      <td>people write comment</td>\n",
       "      <td>0</td>\n",
       "    </tr>\n",
       "    <tr>\n",
       "      <th>3</th>\n",
       "      <td>campusx write comment</td>\n",
       "      <td>0</td>\n",
       "    </tr>\n",
       "  </tbody>\n",
       "</table>\n",
       "</div>"
      ]
     },
     "execution_count": 11,
     "metadata": {},
     "output_type": "execute_result"
    }
   ],
   "execution_count": 11
  },
  {
   "metadata": {
    "ExecuteTime": {
     "end_time": "2024-04-05T10:16:07.524881Z",
     "start_time": "2024-04-05T10:16:07.520891Z"
    }
   },
   "cell_type": "code",
   "source": [
    "from sklearn.feature_extraction.text import CountVectorizer\n",
    "cv = CountVectorizer()"
   ],
   "id": "8448cdcb447ff28e",
   "outputs": [],
   "execution_count": 25
  },
  {
   "metadata": {
    "ExecuteTime": {
     "end_time": "2024-04-05T10:16:07.887693Z",
     "start_time": "2024-04-05T10:16:07.883023Z"
    }
   },
   "cell_type": "code",
   "source": "bow = cv.fit_transform(df['text'])",
   "id": "3bfaf6a55869fb00",
   "outputs": [],
   "execution_count": 26
  },
  {
   "metadata": {
    "ExecuteTime": {
     "end_time": "2024-04-05T10:16:08.201006Z",
     "start_time": "2024-04-05T10:16:08.197558Z"
    }
   },
   "cell_type": "code",
   "source": "print(cv.vocabulary_)",
   "id": "e1b082e356709b64",
   "outputs": [
    {
     "name": "stdout",
     "output_type": "stream",
     "text": [
      "{'people': 2, 'watch': 3, 'campusx': 0, 'write': 4, 'comment': 1}\n"
     ]
    }
   ],
   "execution_count": 27
  },
  {
   "metadata": {
    "ExecuteTime": {
     "end_time": "2024-04-05T10:16:08.541187Z",
     "start_time": "2024-04-05T10:16:08.536019Z"
    }
   },
   "cell_type": "code",
   "source": "print(bow[0].toarray())",
   "id": "613dec604ac13e25",
   "outputs": [
    {
     "name": "stdout",
     "output_type": "stream",
     "text": [
      "[[1 0 1 1 0]]\n"
     ]
    }
   ],
   "execution_count": 28
  },
  {
   "metadata": {
    "ExecuteTime": {
     "end_time": "2024-04-05T10:16:09.098816Z",
     "start_time": "2024-04-05T10:16:09.092286Z"
    }
   },
   "cell_type": "code",
   "source": "cv.transform([\"campusx watch and write comment of campusx\"]).toarray()",
   "id": "2334d335a57d829e",
   "outputs": [
    {
     "data": {
      "text/plain": [
       "array([[2, 1, 0, 1, 1]], dtype=int64)"
      ]
     },
     "execution_count": 29,
     "metadata": {},
     "output_type": "execute_result"
    }
   ],
   "execution_count": 29
  },
  {
   "metadata": {},
   "cell_type": "markdown",
   "source": [
    "## Advantage\n",
    "### Capturing bit semantic \n"
   ],
   "id": "9007183eba227691"
  },
  {
   "metadata": {},
   "cell_type": "markdown",
   "source": [
    "## Disadvantage\n",
    "### sparsity\n",
    "### Overfitting\n",
    "### OOV(out of vocalobary) {This is a very good movie,This is not a very good movie by vector these two words are very close but actually it not to be close)}\n",
    "### Ignoring ordering"
   ],
   "id": "6ccf9cac4e221acc"
  },
  {
   "metadata": {},
   "cell_type": "code",
   "outputs": [],
   "execution_count": null,
   "source": "",
   "id": "d441f45d3d7d819"
  }
 ],
 "metadata": {
  "kernelspec": {
   "display_name": "Python 3",
   "language": "python",
   "name": "python3"
  },
  "language_info": {
   "codemirror_mode": {
    "name": "ipython",
    "version": 2
   },
   "file_extension": ".py",
   "mimetype": "text/x-python",
   "name": "python",
   "nbconvert_exporter": "python",
   "pygments_lexer": "ipython2",
   "version": "2.7.6"
  }
 },
 "nbformat": 4,
 "nbformat_minor": 5
}
