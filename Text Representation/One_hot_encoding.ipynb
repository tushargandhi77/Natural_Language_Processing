{
 "cells": [
  {
   "metadata": {},
   "cell_type": "markdown",
   "source": "# One hot Encoding",
   "id": "52b286cf5d43ef2"
  },
  {
   "cell_type": "code",
   "id": "initial_id",
   "metadata": {
    "collapsed": true,
    "ExecuteTime": {
     "end_time": "2024-04-05T09:26:25.242681Z",
     "start_time": "2024-04-05T09:26:25.237807Z"
    }
   },
   "source": "l1 = \"helo my name is tushar helo my name ashutosh\"",
   "outputs": [],
   "execution_count": 27
  },
  {
   "metadata": {
    "ExecuteTime": {
     "end_time": "2024-04-05T09:33:40.986842Z",
     "start_time": "2024-04-05T09:33:40.981978Z"
    }
   },
   "cell_type": "code",
   "source": [
    "l = sorted(set(l1.split()))\n",
    "print(l)\n",
    "encode = []\n",
    "for cat in l1.split():\n",
    "    vector = [0]*len(l)\n",
    "    vector[l.index(cat)] = 1\n",
    "    encode.append(vector)\n",
    "print(encode)"
   ],
   "id": "1799aab5185baa99",
   "outputs": [
    {
     "name": "stdout",
     "output_type": "stream",
     "text": [
      "['ashutosh', 'helo', 'is', 'my', 'name', 'tushar']\n",
      "[[0, 1, 0, 0, 0, 0], [0, 0, 0, 1, 0, 0], [0, 0, 0, 0, 1, 0], [0, 0, 1, 0, 0, 0], [0, 0, 0, 0, 0, 1], [0, 1, 0, 0, 0, 0], [0, 0, 0, 1, 0, 0], [0, 0, 0, 0, 1, 0], [1, 0, 0, 0, 0, 0]]\n"
     ]
    }
   ],
   "execution_count": 32
  },
  {
   "metadata": {},
   "cell_type": "markdown",
   "source": "### They are in vector so they are in eqidistant so we cannot capture semantic meaning",
   "id": "90392a6143befaed"
  },
  {
   "metadata": {},
   "cell_type": "markdown",
   "source": [
    "### Flaws \n",
    "#### 1. Sparsity\n",
    "#### 2. No fixed size\n",
    "#### 3. OOV\n",
    "#### 4. NO capturing of semantic"
   ],
   "id": "af32e45c89052cee"
  },
  {
   "metadata": {
    "ExecuteTime": {
     "end_time": "2024-04-05T09:30:31.184596Z",
     "start_time": "2024-04-05T09:30:31.181364Z"
    }
   },
   "cell_type": "code",
   "source": "| ",
   "id": "756dc13aa7b14949",
   "outputs": [],
   "execution_count": 31
  },
  {
   "metadata": {},
   "cell_type": "code",
   "outputs": [],
   "execution_count": null,
   "source": "",
   "id": "7bf0553e247b7cef"
  }
 ],
 "metadata": {
  "kernelspec": {
   "display_name": "Python 3",
   "language": "python",
   "name": "python3"
  },
  "language_info": {
   "codemirror_mode": {
    "name": "ipython",
    "version": 2
   },
   "file_extension": ".py",
   "mimetype": "text/x-python",
   "name": "python",
   "nbconvert_exporter": "python",
   "pygments_lexer": "ipython2",
   "version": "2.7.6"
  }
 },
 "nbformat": 4,
 "nbformat_minor": 5
}
