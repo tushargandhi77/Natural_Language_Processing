{
 "cells": [
  {
   "metadata": {},
   "cell_type": "markdown",
   "source": [
    "# Introduction\n",
    "#### 1. What is Feature Extraction from text?\n",
    "#### 2. Why do we need it?\n",
    "#### 3. why is it difficult?\n",
    "#### 4. what is the core idea?\n",
    "#### 5. what are the techniques?"
   ],
   "id": "31dc5a5125ed4cd4"
  },
  {
   "metadata": {},
   "cell_type": "markdown",
   "source": [
    "### 1. One hot Encoding \n",
    "### 2. Bag of words\n",
    "### 3. ngrams\n",
    "### 4. Tf-Idf\n",
    "### 5. Custom Features\n",
    "## Deep learnings Techniques\n",
    "### 1. Word 2 vec\n",
    "### 2. Embeddings"
   ],
   "id": "a6bb72bcaf74c7ef"
  },
  {
   "metadata": {},
   "cell_type": "markdown",
   "source": [
    "## Common Terms\n",
    "### Corpus(C)\n",
    "Add all the rows \n",
    "### Vocabulary(V)\n",
    "Unique words in the corpus\n",
    "### Document\n",
    "### Word"
   ],
   "id": "857af6fa2d96d7a2"
  },
  {
   "metadata": {},
   "cell_type": "code",
   "outputs": [],
   "execution_count": null,
   "source": "### ",
   "id": "13bb67ef36a4b830"
  },
  {
   "metadata": {},
   "cell_type": "markdown",
   "source": "",
   "id": "df45c02673b0e62a"
  }
 ],
 "metadata": {
  "kernelspec": {
   "display_name": "Python 3",
   "language": "python",
   "name": "python3"
  },
  "language_info": {
   "codemirror_mode": {
    "name": "ipython",
    "version": 2
   },
   "file_extension": ".py",
   "mimetype": "text/x-python",
   "name": "python",
   "nbconvert_exporter": "python",
   "pygments_lexer": "ipython2",
   "version": "2.7.6"
  }
 },
 "nbformat": 4,
 "nbformat_minor": 5
}
