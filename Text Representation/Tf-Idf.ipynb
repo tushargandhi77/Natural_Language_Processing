{
 "cells": [
  {
   "metadata": {},
   "cell_type": "markdown",
   "source": [
    "# Tf-Idf\n",
    "\n",
    "If a word occurs more in document but rare in corpus then they assign as high value \n",
    "\n",
    "#### Tf (Term Frequency)\n",
    "#### IDF (Inverse doc Frequency)\n",
    "TF = (Number of occurrence of term t in document d)/(Total Number of terms in the documents d)\n",
    "#\n",
    "IDF = log((Total number of documents in the corpus)/(Number of documents with term t in them))\n",
    "#\n",
    "TF*IDF"
   ],
   "id": "c860e7e49555967"
  },
  {
   "metadata": {
    "ExecuteTime": {
     "end_time": "2024-04-05T10:56:51.902467Z",
     "start_time": "2024-04-05T10:56:51.546854Z"
    }
   },
   "cell_type": "code",
   "source": [
    "import numpy as np\n",
    "import pandas as pd"
   ],
   "id": "4175a9e068fa739c",
   "outputs": [],
   "execution_count": 1
  },
  {
   "cell_type": "code",
   "id": "initial_id",
   "metadata": {
    "collapsed": true,
    "ExecuteTime": {
     "end_time": "2024-04-05T10:56:53.613346Z",
     "start_time": "2024-04-05T10:56:53.609840Z"
    }
   },
   "source": "df = pd.DataFrame({'text':['people watch campusx','campusx watch campusx','people write comment','campusx write comment'],'output':[1,1,0,0]})",
   "outputs": [],
   "execution_count": 2
  },
  {
   "metadata": {
    "ExecuteTime": {
     "end_time": "2024-04-05T11:17:09.894886Z",
     "start_time": "2024-04-05T11:17:09.887657Z"
    }
   },
   "cell_type": "code",
   "source": [
    "from sklearn.feature_extraction.text import TfidfVectorizer\n",
    "tfidf = TfidfVectorizer()\n",
    "tfidf.fit_transform(df['text']).toarray()\n"
   ],
   "id": "188451b311ad5483",
   "outputs": [
    {
     "data": {
      "text/plain": [
       "array([[0.49681612, 0.        , 0.61366674, 0.61366674, 0.        ],\n",
       "       [0.8508161 , 0.        , 0.        , 0.52546357, 0.        ],\n",
       "       [0.        , 0.57735027, 0.57735027, 0.        , 0.57735027],\n",
       "       [0.49681612, 0.61366674, 0.        , 0.        , 0.61366674]])"
      ]
     },
     "execution_count": 6,
     "metadata": {},
     "output_type": "execute_result"
    }
   ],
   "execution_count": 6
  },
  {
   "metadata": {
    "ExecuteTime": {
     "end_time": "2024-04-05T11:17:07.516949Z",
     "start_time": "2024-04-05T11:17:07.512959Z"
    }
   },
   "cell_type": "code",
   "source": "tfidf.vocabulary_",
   "id": "9df89fa0fc17e00c",
   "outputs": [
    {
     "data": {
      "text/plain": [
       "{'people': 2, 'watch': 3, 'campusx': 0, 'write': 4, 'comment': 1}"
      ]
     },
     "execution_count": 5,
     "metadata": {},
     "output_type": "execute_result"
    }
   ],
   "execution_count": 5
  },
  {
   "metadata": {},
   "cell_type": "markdown",
   "source": [
    "## Advantage \n",
    "### Search Engines (Information Retrival)\n",
    "## Disadavatage\n",
    "### Sparsity\n",
    "### OOV\n",
    "### Semantic Not captured"
   ],
   "id": "d35864450d9f5983"
  },
  {
   "metadata": {},
   "cell_type": "markdown",
   "source": [
    "# custom Features \n",
    "example-\n",
    "##### Number or +ve and -ve words\n",
    "##### Charecter counting\n",
    "\n",
    "## HyBrid featues = Custom Features + Technical\n"
   ],
   "id": "18dbb18d15e86fa5"
  },
  {
   "metadata": {},
   "cell_type": "code",
   "outputs": [],
   "execution_count": null,
   "source": "",
   "id": "84013d62bf2505ea"
  }
 ],
 "metadata": {
  "kernelspec": {
   "display_name": "Python 3",
   "language": "python",
   "name": "python3"
  },
  "language_info": {
   "codemirror_mode": {
    "name": "ipython",
    "version": 2
   },
   "file_extension": ".py",
   "mimetype": "text/x-python",
   "name": "python",
   "nbconvert_exporter": "python",
   "pygments_lexer": "ipython2",
   "version": "2.7.6"
  }
 },
 "nbformat": 4,
 "nbformat_minor": 5
}
