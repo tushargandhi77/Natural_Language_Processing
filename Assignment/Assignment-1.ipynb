{
 "cells": [
  {
   "cell_type": "code",
   "id": "initial_id",
   "metadata": {
    "collapsed": true,
    "ExecuteTime": {
     "end_time": "2024-04-05T18:25:45.623502Z",
     "start_time": "2024-04-05T18:25:45.619509Z"
    }
   },
   "source": [
    "import numpy as np\n",
    "import pandas as pd\n",
    "import re"
   ],
   "outputs": [],
   "execution_count": 90
  },
  {
   "metadata": {
    "ExecuteTime": {
     "end_time": "2024-04-05T18:25:46.421485Z",
     "start_time": "2024-04-05T18:25:45.699473Z"
    }
   },
   "cell_type": "code",
   "source": [
    "df = pd.read_csv('IMDB Dataset.csv')\n",
    "df.head()"
   ],
   "id": "35f36fc92b4efaa0",
   "outputs": [
    {
     "data": {
      "text/plain": [
       "                                              review sentiment\n",
       "0  One of the other reviewers has mentioned that ...  positive\n",
       "1  A wonderful little production. <br /><br />The...  positive\n",
       "2  I thought this was a wonderful way to spend ti...  positive\n",
       "3  Basically there's a family where a little boy ...  negative\n",
       "4  Petter Mattei's \"Love in the Time of Money\" is...  positive"
      ],
      "text/html": [
       "<div>\n",
       "<style scoped>\n",
       "    .dataframe tbody tr th:only-of-type {\n",
       "        vertical-align: middle;\n",
       "    }\n",
       "\n",
       "    .dataframe tbody tr th {\n",
       "        vertical-align: top;\n",
       "    }\n",
       "\n",
       "    .dataframe thead th {\n",
       "        text-align: right;\n",
       "    }\n",
       "</style>\n",
       "<table border=\"1\" class=\"dataframe\">\n",
       "  <thead>\n",
       "    <tr style=\"text-align: right;\">\n",
       "      <th></th>\n",
       "      <th>review</th>\n",
       "      <th>sentiment</th>\n",
       "    </tr>\n",
       "  </thead>\n",
       "  <tbody>\n",
       "    <tr>\n",
       "      <th>0</th>\n",
       "      <td>One of the other reviewers has mentioned that ...</td>\n",
       "      <td>positive</td>\n",
       "    </tr>\n",
       "    <tr>\n",
       "      <th>1</th>\n",
       "      <td>A wonderful little production. &lt;br /&gt;&lt;br /&gt;The...</td>\n",
       "      <td>positive</td>\n",
       "    </tr>\n",
       "    <tr>\n",
       "      <th>2</th>\n",
       "      <td>I thought this was a wonderful way to spend ti...</td>\n",
       "      <td>positive</td>\n",
       "    </tr>\n",
       "    <tr>\n",
       "      <th>3</th>\n",
       "      <td>Basically there's a family where a little boy ...</td>\n",
       "      <td>negative</td>\n",
       "    </tr>\n",
       "    <tr>\n",
       "      <th>4</th>\n",
       "      <td>Petter Mattei's \"Love in the Time of Money\" is...</td>\n",
       "      <td>positive</td>\n",
       "    </tr>\n",
       "  </tbody>\n",
       "</table>\n",
       "</div>"
      ]
     },
     "execution_count": 91,
     "metadata": {},
     "output_type": "execute_result"
    }
   ],
   "execution_count": 91
  },
  {
   "metadata": {
    "ExecuteTime": {
     "end_time": "2024-04-05T18:25:46.428481Z",
     "start_time": "2024-04-05T18:25:46.422486Z"
    }
   },
   "cell_type": "code",
   "source": "df['review'][5]",
   "id": "81e54040a53fadf3",
   "outputs": [
    {
     "data": {
      "text/plain": [
       "'Probably my all-time favorite movie, a story of selflessness, sacrifice and dedication to a noble cause, but it\\'s not preachy or boring. It just never gets old, despite my having seen it some 15 or more times in the last 25 years. Paul Lukas\\' performance brings tears to my eyes, and Bette Davis, in one of her very few truly sympathetic roles, is a delight. The kids are, as grandma says, more like \"dressed-up midgets\" than children, but that only makes them more fun to watch. And the mother\\'s slow awakening to what\\'s happening in the world and under her own roof is believable and startling. If I had a dozen thumbs, they\\'d all be \"up\" for this movie.'"
      ]
     },
     "execution_count": 92,
     "metadata": {},
     "output_type": "execute_result"
    }
   ],
   "execution_count": 92
  },
  {
   "metadata": {},
   "cell_type": "markdown",
   "source": "# Data Preprocessing",
   "id": "3b65f59766a18490"
  },
  {
   "metadata": {},
   "cell_type": "markdown",
   "source": "### Convert to lower case",
   "id": "b000f3f2da88c033"
  },
  {
   "metadata": {
    "ExecuteTime": {
     "end_time": "2024-04-05T18:25:46.593150Z",
     "start_time": "2024-04-05T18:25:46.429469Z"
    }
   },
   "cell_type": "code",
   "source": "df['review'] = df['review'].apply(lambda x: x.lower())",
   "id": "809f66d979e2b5b8",
   "outputs": [],
   "execution_count": 93
  },
  {
   "metadata": {},
   "cell_type": "markdown",
   "source": "### Remove html tags",
   "id": "9aea9ea0b742cdec"
  },
  {
   "metadata": {
    "ExecuteTime": {
     "end_time": "2024-04-05T18:25:46.598138Z",
     "start_time": "2024-04-05T18:25:46.595149Z"
    }
   },
   "cell_type": "code",
   "source": [
    "\n",
    "def clean_text_remove_html_tags(text):\n",
    "    pattern = re.compile('<.*?>')\n",
    "    return pattern.sub(r'',text)\n",
    "    \n",
    "    "
   ],
   "id": "c6ced2d87ca94e12",
   "outputs": [],
   "execution_count": 94
  },
  {
   "metadata": {},
   "cell_type": "markdown",
   "source": "",
   "id": "eede28afde7da765"
  },
  {
   "metadata": {
    "ExecuteTime": {
     "end_time": "2024-04-05T18:25:46.808323Z",
     "start_time": "2024-04-05T18:25:46.599138Z"
    }
   },
   "cell_type": "code",
   "source": "df['review'] = df['review'].apply(clean_text_remove_html_tags)",
   "id": "1f92c0cb1917890",
   "outputs": [],
   "execution_count": 95
  },
  {
   "metadata": {
    "ExecuteTime": {
     "end_time": "2024-04-05T18:25:46.813890Z",
     "start_time": "2024-04-05T18:25:46.809322Z"
    }
   },
   "cell_type": "code",
   "source": "df['review'][5]",
   "id": "19b639371cbf79d8",
   "outputs": [
    {
     "data": {
      "text/plain": [
       "'probably my all-time favorite movie, a story of selflessness, sacrifice and dedication to a noble cause, but it\\'s not preachy or boring. it just never gets old, despite my having seen it some 15 or more times in the last 25 years. paul lukas\\' performance brings tears to my eyes, and bette davis, in one of her very few truly sympathetic roles, is a delight. the kids are, as grandma says, more like \"dressed-up midgets\" than children, but that only makes them more fun to watch. and the mother\\'s slow awakening to what\\'s happening in the world and under her own roof is believable and startling. if i had a dozen thumbs, they\\'d all be \"up\" for this movie.'"
      ]
     },
     "execution_count": 96,
     "metadata": {},
     "output_type": "execute_result"
    }
   ],
   "execution_count": 96
  },
  {
   "metadata": {
    "ExecuteTime": {
     "end_time": "2024-04-05T18:25:46.826332Z",
     "start_time": "2024-04-05T18:25:46.814889Z"
    }
   },
   "cell_type": "code",
   "source": [
    "def remove_slash(text):\n",
    "    pattern = re.compile(r\"\\\\'\")\n",
    "    return pattern.sub('',text)"
   ],
   "id": "8832323552e95c62",
   "outputs": [],
   "execution_count": 97
  },
  {
   "metadata": {
    "ExecuteTime": {
     "end_time": "2024-04-05T18:25:46.922015Z",
     "start_time": "2024-04-05T18:25:46.828333Z"
    }
   },
   "cell_type": "code",
   "source": "df['review'] = df['review'].apply(remove_slash)",
   "id": "948b161c68bfb019",
   "outputs": [],
   "execution_count": 98
  },
  {
   "metadata": {},
   "cell_type": "markdown",
   "source": "### Url removing",
   "id": "5dbf0c4be7b1526"
  },
  {
   "metadata": {
    "ExecuteTime": {
     "end_time": "2024-04-05T18:25:46.928124Z",
     "start_time": "2024-04-05T18:25:46.923015Z"
    }
   },
   "cell_type": "code",
   "source": [
    "def remove_url(text):\n",
    "    pattern = re.compile('http[s]?://\\S+|www\\.\\S+')\n",
    "    return pattern.sub(r'',text)"
   ],
   "id": "ed1221cb432f68db",
   "outputs": [],
   "execution_count": 99
  },
  {
   "metadata": {
    "ExecuteTime": {
     "end_time": "2024-04-05T18:25:47.424076Z",
     "start_time": "2024-04-05T18:25:46.931120Z"
    }
   },
   "cell_type": "code",
   "source": "df['review'] = df['review'].apply(remove_url)",
   "id": "1a15ac173d7e19f8",
   "outputs": [],
   "execution_count": 100
  },
  {
   "metadata": {},
   "cell_type": "markdown",
   "source": "### Remove putuations",
   "id": "5eccdce91c705d63"
  },
  {
   "metadata": {
    "ExecuteTime": {
     "end_time": "2024-04-05T18:25:47.429202Z",
     "start_time": "2024-04-05T18:25:47.425076Z"
    }
   },
   "cell_type": "code",
   "source": [
    "import string\n",
    "exclude = string.punctuation \n",
    "exclude"
   ],
   "id": "7514e05c205f49f2",
   "outputs": [
    {
     "data": {
      "text/plain": [
       "'!\"#$%&\\'()*+,-./:;<=>?@[\\\\]^_`{|}~'"
      ]
     },
     "execution_count": 101,
     "metadata": {},
     "output_type": "execute_result"
    }
   ],
   "execution_count": 101
  },
  {
   "metadata": {
    "ExecuteTime": {
     "end_time": "2024-04-05T18:25:47.453324Z",
     "start_time": "2024-04-05T18:25:47.430162Z"
    }
   },
   "cell_type": "code",
   "source": [
    "def remmove_punctuation(text):\n",
    "    for w in text:\n",
    "        if w in exclude:\n",
    "            text = text.replace(w,'')\n",
    "    return text"
   ],
   "id": "7799a16a87027540",
   "outputs": [],
   "execution_count": 102
  },
  {
   "metadata": {
    "ExecuteTime": {
     "end_time": "2024-04-05T18:25:50.551468Z",
     "start_time": "2024-04-05T18:25:47.454324Z"
    }
   },
   "cell_type": "code",
   "source": "df['review'] = df['review'].apply(remmove_punctuation)",
   "id": "e84fb16c1a9fccaa",
   "outputs": [],
   "execution_count": 103
  },
  {
   "metadata": {},
   "cell_type": "markdown",
   "source": "### spelling correction",
   "id": "a3b2a18decfe09a"
  },
  {
   "metadata": {
    "ExecuteTime": {
     "end_time": "2024-04-05T18:25:50.557057Z",
     "start_time": "2024-04-05T18:25:50.554026Z"
    }
   },
   "cell_type": "code",
   "source": [
    "# from textblob import TextBlob\n",
    "# \n",
    "# df['review'].apply(lambda x: TextBlob(x).correct().string)"
   ],
   "id": "3419970b5f4976ea",
   "outputs": [],
   "execution_count": 104
  },
  {
   "metadata": {},
   "cell_type": "markdown",
   "source": "### Remove stop words",
   "id": "2351cbe5f9041c07"
  },
  {
   "metadata": {
    "ExecuteTime": {
     "end_time": "2024-04-05T18:25:50.579340Z",
     "start_time": "2024-04-05T18:25:50.558047Z"
    }
   },
   "cell_type": "code",
   "source": [
    "from nltk.corpus import stopwords\n",
    "stop_words = stopwords.words('english')\n",
    "\n",
    "def remove_stopwords(text):\n",
    "    word = text.split()\n",
    "    filtered_text = [word for word in word if word not in stop_words]\n",
    "    return ' '.join(filtered_text)"
   ],
   "id": "753a67bc0b51f8a3",
   "outputs": [],
   "execution_count": 105
  },
  {
   "metadata": {
    "ExecuteTime": {
     "end_time": "2024-04-05T18:26:01.343023Z",
     "start_time": "2024-04-05T18:25:50.580342Z"
    }
   },
   "cell_type": "code",
   "source": "df['review'] = df['review'].apply(remove_stopwords)",
   "id": "bcbfa697b586e79f",
   "outputs": [],
   "execution_count": 106
  },
  {
   "metadata": {},
   "cell_type": "markdown",
   "source": "### Stemming",
   "id": "6431b0b69bec6090"
  },
  {
   "metadata": {
    "ExecuteTime": {
     "end_time": "2024-04-05T18:35:40.590123Z",
     "start_time": "2024-04-05T18:34:21.997794Z"
    }
   },
   "cell_type": "code",
   "source": [
    "from nltk.stem.porter import PorterStemmer\n",
    "ps = PorterStemmer()\n",
    "\n",
    "df['review'] = df['review'].apply(lambda x: ' '.join([ps.stem(word) for word in x.split()]))"
   ],
   "id": "f3dd172708c2295d",
   "outputs": [],
   "execution_count": 109
  },
  {
   "metadata": {
    "ExecuteTime": {
     "end_time": "2024-04-05T18:43:38.669016Z",
     "start_time": "2024-04-05T18:43:38.665206Z"
    }
   },
   "cell_type": "code",
   "source": "",
   "id": "fc082e30cd4cb2cd",
   "outputs": [],
   "execution_count": 115
  },
  {
   "metadata": {
    "ExecuteTime": {
     "end_time": "2024-04-05T18:43:40.923330Z",
     "start_time": "2024-04-05T18:43:40.917304Z"
    }
   },
   "cell_type": "code",
   "source": "0000",
   "id": "1ef7ab464fa90bf8",
   "outputs": [
    {
     "data": {
      "text/plain": [
       "[[0, 0, 0, 0, 0],\n",
       " [0, 0, 0, 0, 0],\n",
       " [0, 0, 0, 0, 0],\n",
       " [0, 0, 0, 0, 0],\n",
       " [0, 0, 0, 0, 0]]"
      ]
     },
     "execution_count": 116,
     "metadata": {},
     "output_type": "execute_result"
    }
   ],
   "execution_count": 116
  },
  {
   "metadata": {},
   "cell_type": "code",
   "outputs": [],
   "execution_count": null,
   "source": "",
   "id": "f46ebee89522554d"
  }
 ],
 "metadata": {
  "kernelspec": {
   "display_name": "Python 3",
   "language": "python",
   "name": "python3"
  },
  "language_info": {
   "codemirror_mode": {
    "name": "ipython",
    "version": 2
   },
   "file_extension": ".py",
   "mimetype": "text/x-python",
   "name": "python",
   "nbconvert_exporter": "python",
   "pygments_lexer": "ipython2",
   "version": "2.7.6"
  }
 },
 "nbformat": 4,
 "nbformat_minor": 5
}
